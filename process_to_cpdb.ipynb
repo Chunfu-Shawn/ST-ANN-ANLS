{
 "cells": [
  {
   "cell_type": "code",
   "execution_count": 62,
   "id": "615837bd",
   "metadata": {},
   "outputs": [],
   "source": [
    "import numpy as np\n",
    "import csv\n",
    "import pandas as pd\n",
    "import scanpy as sc\n",
    "import sys\n",
    "import scanpy as sc\n",
    "import scipy.sparse"
   ]
  },
  {
   "cell_type": "code",
   "execution_count": 63,
   "id": "a109439b",
   "metadata": {},
   "outputs": [],
   "source": [
    "def read_sc(count, meta, celltype_key='cell_type', batch_key=None, categorical_covariate_key=None,\n",
    "            continuous_covariate_key=None):\n",
    "    count = sc.read_csv(count)\n",
    "    count.X = scipy.sparse.csc_matrix(count.X)\n",
    "\n",
    "    meta = pd.read_csv(meta, index_col=0)\n",
    "\n",
    "    if all(count.obs.index == meta.index):\n",
    "        count.obs = pd.concat([count.obs, meta], axis=1)\n",
    "\n",
    "    if celltype_key not in count.obs.columns:\n",
    "        raise KeyError('celltype_key ' + celltype_key + ' not found in ' + ', '.join(count.obs.columns) + '!')\n",
    "    if batch_key is not None and batch_key not in count.obs.columns:\n",
    "        raise KeyError('batch_key ' + batch_key + ' not found in ' + ', '.join(count.obs.columns) + '!')\n",
    "    if categorical_covariate_key is not None and not all(x in count.obs.columns for x in categorical_covariate_key):\n",
    "        raise KeyError('categorical_covariate_key ' + categorical_covariate_key + 'is not a subset of ' + ', '.join(\n",
    "            count.obs.columns) + '!')\n",
    "    if continuous_covariate_key is not None and not all(x in count.obs.columns for x in continuous_covariate_key):\n",
    "        raise KeyError('continuous_covariate_key ' + continuous_covariate_key + 'is not a subset of ' + ', '.join(\n",
    "            count.obs.columns) + '!')\n",
    "\n",
    "    return count"
   ]
  },
  {
   "cell_type": "code",
   "execution_count": 50,
   "id": "aa1c8a57",
   "metadata": {},
   "outputs": [],
   "source": [
    "def process_to_cpdb(sc_path, save_path, name=\"test\", annotation_name=\"cell_type\"):\n",
    "    adata_sc = sc.read_h5ad(sc_path)\n",
    "    adata_sc.X = adata_sc.X.A\n",
    "\n",
    "    utils.warn(' --- Generating count file --- ')\n",
    "    # set df.dtypes = float32\n",
    "    df_expr_matrix = pd.DataFrame(sc.pp.normalize_total(adata_sc, inplace=False)[\"X\"], dtype=\"float\")\n",
    "    df_expr_matrix = df_expr_matrix.T\n",
    "    # set cell ids as columns\n",
    "    df_expr_matrix.columns = adata_sc.obs.index\n",
    "    # genes should be either Ensembl IDs or gene names\n",
    "    # transform orthologs\n",
    "    index = adata_sc.var.index\n",
    "    genes = got.rename_gene(np.array(index))\n",
    "    df_expr_matrix.set_index(genes, inplace=True)\n",
    "\n",
    "    utils.warn(' --- Saving count file... --- ')\n",
    "    df_expr_matrix.to_csv(save_path + name + \".counts.txt\", sep='\\t')\n",
    "\n",
    "    utils.warn(' --- Generating metadata file --- ')\n",
    "    df_meta = pd.DataFrame(\n",
    "        data={'Cell': list(adata_sc.obs.index), 'cell_type': list(adata_sc.obs[annotation_name])}\n",
    "    )\n",
    "    df_meta.set_index('Cell', inplace=True)\n",
    "    utils.warn(' --- Saving metadata file... --- ')\n",
    "    df_meta.to_csv(save_path + name + \".meta.txt\", sep='\\t')"
   ]
  },
  {
   "cell_type": "code",
   "execution_count": 51,
   "id": "ad5329a2",
   "metadata": {},
   "outputs": [],
   "source": [
    "if __name__ == \"__main__\":\n",
    "    process_to_cpdb(\n",
    "        sc_path=\"../data/STW-M-Brain-Stereo-seq-1/coronal_1.bin50.adata_sc.clusters.h5ad\",\n",
    "        annotation_name=\"cell_type\",\n",
    "        save_path=\"../data/STW-M-Brain-Stereo-seq-1/\",\n",
    "        name=\"coronal_1\"\n",
    "    )"
   ]
  },
  {
   "cell_type": "code",
   "execution_count": 59,
   "id": "d1e08460",
   "metadata": {},
   "outputs": [
    {
     "data": {
      "text/plain": [
       "'amhr2'"
      ]
     },
     "execution_count": 59,
     "metadata": {},
     "output_type": "execute_result"
    }
   ],
   "source": [
    "adata_sc = sc.read_h5ad(\"data/STW-M-Brain-Stereo-seq-1/coronal_1.bin50.adata_sc.clusters.h5ad\")\n",
    "adata_sc.var.index.values[2000]"
   ]
  },
  {
   "cell_type": "code",
   "execution_count": 64,
   "id": "e28bb1e8",
   "metadata": {},
   "outputs": [
    {
     "data": {
      "text/plain": [
       "'Amer3'"
      ]
     },
     "execution_count": 64,
     "metadata": {},
     "output_type": "execute_result"
    }
   ],
   "source": [
    "adata_sc = read_sc(count='data/STW-M-Brain-Stereo-seq-1/counts.csv.gz',\n",
    "                             meta='data/STW-M-Brain-Stereo-seq-1/labels.csv.gz',\n",
    "                             celltype_key=\"cell_type\")\n",
    "adata_sc.var.index.values[2000]"
   ]
  },
  {
   "cell_type": "code",
   "execution_count": 66,
   "id": "32c88d92",
   "metadata": {},
   "outputs": [
    {
     "data": {
      "text/plain": [
       "'Aco2'"
      ]
     },
     "execution_count": 66,
     "metadata": {},
     "output_type": "execute_result"
    }
   ],
   "source": [
    "adata_sp = sc.read_h5ad(\"data/STW-M-Brain-Stereo-seq-1/coronal_1.bin50.adata_sp_ann.clusters.h5ad\")\n",
    "adata_sp.var.index.values[2000]"
   ]
  },
  {
   "cell_type": "code",
   "execution_count": null,
   "id": "c38d8de5",
   "metadata": {},
   "outputs": [],
   "source": []
  }
 ],
 "metadata": {
  "kernelspec": {
   "display_name": "Python 3 (ipykernel)",
   "language": "python",
   "name": "python3"
  },
  "language_info": {
   "codemirror_mode": {
    "name": "ipython",
    "version": 3
   },
   "file_extension": ".py",
   "mimetype": "text/x-python",
   "name": "python",
   "nbconvert_exporter": "python",
   "pygments_lexer": "ipython3",
   "version": "3.9.0"
  }
 },
 "nbformat": 4,
 "nbformat_minor": 5
}
