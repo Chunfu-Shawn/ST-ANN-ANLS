{
 "cells": [
  {
   "cell_type": "code",
   "execution_count": 2,
   "id": "ce044b7c",
   "metadata": {},
   "outputs": [],
   "source": [
    "import numpy as np\n",
    "import csv\n",
    "import pandas as pd\n",
    "import scanpy as sc\n",
    "import ./src/"
   ]
  },
  {
   "cell_type": "code",
   "execution_count": 50,
   "id": "46a25948",
   "metadata": {},
   "outputs": [],
   "source": [
    "def process_to_cpdb(sc_path, save_path, name=\"test\", annotation_name=\"cell_type\"):\n",
    "    adata_sc = sc.read_h5ad(sc_path)\n",
    "    adata_sc.X = adata_sc.X.A\n",
    "\n",
    "    utils.warn(' --- Generating count file --- ')\n",
    "    # set df.dtypes = float32\n",
    "    df_expr_matrix = pd.DataFrame(sc.pp.normalize_total(adata_sc, inplace=False)[\"X\"], dtype=\"float\")\n",
    "    df_expr_matrix = df_expr_matrix.T\n",
    "    # set cell ids as columns\n",
    "    df_expr_matrix.columns = adata_sc.obs.index\n",
    "    # genes should be either Ensembl IDs or gene names\n",
    "    # transform orthologs\n",
    "    index = adata_sc.var.index\n",
    "    genes = got.rename_gene(np.array(index))\n",
    "    df_expr_matrix.set_index(genes, inplace=True)\n",
    "\n",
    "    utils.warn(' --- Saving count file... --- ')\n",
    "    df_expr_matrix.to_csv(save_path + name + \".counts.txt\", sep='\\t')\n",
    "\n",
    "    utils.warn(' --- Generating metadata file --- ')\n",
    "    df_meta = pd.DataFrame(\n",
    "        data={'Cell': list(adata_sc.obs.index), 'cell_type': list(adata_sc.obs[annotation_name])}\n",
    "    )\n",
    "    df_meta.set_index('Cell', inplace=True)\n",
    "    utils.warn(' --- Saving metadata file... --- ')\n",
    "    df_meta.to_csv(save_path + name + \".meta.txt\", sep='\\t')"
   ]
  },
  {
   "cell_type": "code",
   "execution_count": 51,
   "id": "277008a1",
   "metadata": {},
   "outputs": [],
   "source": [
    "if __name__ == \"__main__\":\n",
    "    process_to_cpdb(\n",
    "        sc_path=\"../data/STW-M-Brain-Stereo-seq-1/coronal_1.bin50.adata_sc.clusters.h5ad\",\n",
    "        annotation_name=\"cell_type\",\n",
    "        save_path=\"../data/STW-M-Brain-Stereo-seq-1/\",\n",
    "        name=\"coronal_1\"\n",
    "    )"
   ]
  }
 ],
 "metadata": {
  "kernelspec": {
   "display_name": "Python 3 (ipykernel)",
   "language": "python",
   "name": "python3"
  },
  "language_info": {
   "codemirror_mode": {
    "name": "ipython",
    "version": 3
   },
   "file_extension": ".py",
   "mimetype": "text/x-python",
   "name": "python",
   "nbconvert_exporter": "python",
   "pygments_lexer": "ipython3",
   "version": "3.9.0"
  }
 },
 "nbformat": 4,
 "nbformat_minor": 5
}
